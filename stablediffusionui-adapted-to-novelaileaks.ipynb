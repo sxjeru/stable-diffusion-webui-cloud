{
 "cells": [
  {
   "cell_type": "markdown",
   "metadata": {},
   "source": [
    "Check GPU"
   ]
  },
  {
   "cell_type": "code",
   "execution_count": null,
   "metadata": {
    "gather": {
     "logged": 1665584398982
    }
   },
   "outputs": [],
   "source": [
    "!nvidia-smi\n",
    "# !lscpu\n",
    "# !pwd"
   ]
  },
  {
   "cell_type": "markdown",
   "metadata": {},
   "source": [
    "Clone webui repository"
   ]
  },
  {
   "cell_type": "code",
   "execution_count": null,
   "metadata": {},
   "outputs": [],
   "source": [
    "%cd /home/studio-lab-user\n",
    "!git clone https://github.com/AUTOMATIC1111/stable-diffusion-webui /home/studio-lab-user/stable-diffusion-webui\n",
    "\n",
    "# Update\n",
    "# %cd /home/studio-lab-user/stable-diffusion-webui\n",
    "# !git pull"
   ]
  },
  {
   "cell_type": "markdown",
   "metadata": {},
   "source": [
    "Download the model from NovelAILeaks."
   ]
  },
  {
   "cell_type": "code",
   "execution_count": null,
   "metadata": {
    "gather": {
     "logged": 1665550891514
    }
   },
   "outputs": [],
   "source": [
    "!mkdir -p /home/studio-lab-user/stable-diffusion-webui/models/Stable-diffusion /home/studio-lab-user/stable-diffusion-webui/models/hypernetworks\n",
    "%cd /home/studio-lab-user/stable-diffusion-webui/models/Stable-diffusion\n",
    "\n",
    "# Models\n",
    "\n",
    "# 4G animefull-final-pruned\n",
    "!curl -Lo animefull-final-pruned.ckpt https://cloudflare-ipfs.com/ipfs/bafybeicpamreyp2bsocyk3hpxr7ixb2g2rnrequub3j2ahrkdxbvfbvjc4/model.ckpt\n",
    "!curl -Lo animefull-final-pruned.yaml https://cloudflare-ipfs.com/ipfs/bafybeiav3j7npiuewbel3mi32l3sidgkw54kuleosbhxmdvddbnvtfi7yu/config.yaml\n",
    "\n",
    "# Others\n",
    "\n",
    "# Install VAE Weights (optional)\n",
    "!curl -Lo animevae.pt https://cloudflare-ipfs.com/ipfs/bafybeiccldswdd3wvg57jhclcq53lvsc6gizasiblwayvhlv6eq4wow7wu/animevae.pt \n",
    "\n",
    "# Install hypernetwork （optional)\n",
    "!curl -L https://cloudflare-ipfs.com/ipfs/bafybeiduanx2b3mcvxlwr66igcwnpfmk3nc3qgxlpwh6oq6m6pxii3f77e/_modules.tar | tar x -C /home/studio-lab-user/stable-diffusion-webui/models/hypernetworks\n",
    "\n",
    "# Install custom embeddings (modified, optional)\n",
    "# !curl -L https://cloudflare-ipfs.com/ipfs/bafybeie3hdjchxs5tz4n75bos53nhcklslguxchdurc2ynrzcfv2kwyklu/embeddings.tar | tar x -C /content/stable-diffusion-webui/embeddings"
   ]
  },
  {
   "cell_type": "markdown",
   "metadata": {},
   "source": [
    "Launch web ui. You will get a link to nnn.gradio.app, follow it.\n",
    "\n",
    "Commandline arguments are:\n",
    "  - `--share` - create online gradio.app link\n",
    "  - `--gradio-debug` - print outputs to console\n",
    "  - `--gradio-auth me:qwerty` - add authentication to gradio: username me, password qwerty"
   ]
  },
  {
   "cell_type": "code",
   "execution_count": null,
   "metadata": {
    "collapsed": false,
    "jupyter": {
     "outputs_hidden": false,
     "source_hidden": false
    },
    "nteract": {
     "transient": {
      "deleting": false
     }
    }
   },
   "outputs": [],
   "source": [
    "# 更新\n",
    "# !conda update -n base conda -y\n",
    "!conda install pytorch torchvision torchaudio -c pytorch -y\n",
    "%cd /home/studio-lab-user/.conda/envs/default/lib/python3.9/site-packages/PIL\n",
    "!cp _version.py PILLOW_VERSION.py\n",
    "%pip install opencv-python-headless\n",
    "# !pip3 install torch==1.11.0+cu113 torchvision==0.12.0+cu113 torchaudio==0.11.0+cu113 -f https://download.pytorch.org/whl/cu113/torch_stable.html\n",
    "# !conda install -c pytorch-test torchvision\n",
    "\n",
    "print(\"请先尝试重启核心 (Restart kernal)，当下面输出“0.13.1+cu113”时，可正常进行下一步，否则请想办法更新 torchvision.\")\n",
    "import torchvision\n",
    "torchvision.__version__"
   ]
  },
  {
   "cell_type": "code",
   "execution_count": null,
   "metadata": {
    "gather": {
     "logged": 1665587027058
    },
    "tags": []
   },
   "outputs": [],
   "source": [
    "%cd /home/studio-lab-user/stable-diffusion-webui\n",
    "# 解决 git 报错 \"detected dubious ownership in repository at\"\n",
    "!git config --global --add safe.directory '*'\n",
    "!pip3 install -U torch torchvision torchaudio --extra-index-url https://download.pytorch.org/whl/cu113\n",
    "\n",
    "# Use novelai stable-diffusion-private (maybe slow, not work with DDIM, optional)\n",
    "# !mkdir -p repositories/stable-diffusion\n",
    "# !curl -L https://cloudflare-ipfs.com/ipfs/bafybeiauciguui6skzcwg23mjprjbuqhfzudms2gfi4rna55bygc3s6yxa/stable-diffusion-private.tar | tar x -C repositories/stable-diffusion\n",
    "# !git config --global --add safe.directory /content/stable-diffusion-webui/repositories/stable-diffusion\n",
    "# !pip3 install icecream xformers\n",
    "# !sed -i 's/transformer\\.text_model/transformer/g' modules/sd_hijack.py\n",
    "# !COMMANDLINE_ARGS=\"--share --gradio-debug --config config.yaml --xformers\" \\\n",
    "#  REQS_FILE=\"requirements.txt\" STABLE_DIFFUSION_COMMIT_HASH=\"5d95f1742ab1831d99df91c1a469b2b56a61eebf\" python launch.py\n",
    "\n",
    "# ...Or use normal stable-diffusion\n",
    "# !COMMANDLINE_ARGS=\"--listen --share --gradio-auth user:pw --gradio-debug --disable-safe-unpickle --vae-path /home/studio-lab-user/stable-diffusion-webui/models/Stable-diffusion/animevae.pt --ckpt /home/studio-lab-user/fastsd/models/animefull-final-pruned.ckpt\" REQS_FILE=\"requirements.txt\" python launch.py\n",
    "!COMMANDLINE_ARGS=\"--ngrok [Authtoken] --ngrok-region jp --gradio-debug --disable-safe-unpickle --vae-path /home/studio-lab-user/stable-diffusion-webui/models/Stable-diffusion/animevae.pt --ckpt /home/studio-lab-user/fastsd/models/animefull-final-pruned.ckpt\" REQS_FILE=\"requirements.txt\" python launch.py\n",
    "# 纯 CPU\n",
    "# !COMMANDLINE_ARGS=\"--share --gradio-auth user:pw --use-cpu --gradio-debug --disable-safe-unpickle --vae-path /home/studio-lab-user/stable-diffusion-webui/models/Stable-diffusion/animevae.pt --ckpt /home/studio-lab-user/fastsd/models/animefull-final-pruned.ckpt\" REQS_FILE=\"requirements.txt\" python launch.py"
   ]
  },
  {
   "cell_type": "markdown",
   "metadata": {},
   "source": [
    "commands for ***after*** you have gotten done with a session\n",
    "============================================================================"
   ]
  },
  {
   "cell_type": "code",
   "execution_count": null,
   "metadata": {},
   "outputs": [],
   "source": [
    "!zip -r /home/studio-lab-user/stable-diffusion-webui /home/studio-lab-user/stable-diffusion-webui/outputs"
   ]
  }
 ],
 "metadata": {
  "kernel_info": {
   "name": "python3"
  },
  "kernelspec": {
   "display_name": "default:Python",
   "language": "python",
   "name": "conda-env-default-py"
  },
  "language_info": {
   "codemirror_mode": {
    "name": "ipython",
    "version": 3
   },
   "file_extension": ".py",
   "mimetype": "text/x-python",
   "name": "python",
   "nbconvert_exporter": "python",
   "pygments_lexer": "ipython3",
   "version": "3.9.13"
  },
  "nteract": {
   "version": "nteract-front-end@1.0.0"
  }
 },
 "nbformat": 4,
 "nbformat_minor": 4
}
