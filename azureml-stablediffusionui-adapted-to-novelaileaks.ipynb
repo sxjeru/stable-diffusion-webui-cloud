{
  "cells": [
    {
      "cell_type": "markdown",
      "source": [
        "Check GPU"
      ],
      "metadata": {}
    },
    {
      "cell_type": "code",
      "source": [
        "# !nvidia-smi\n",
        "# !lscpu\n",
        "\n",
        "# 请先运行该单元格，根据输出的结果更改 第6行路径，并去掉注释(Ctrl+/)，然后再运行一次，之后可往下运行。\n",
        "!pwd\n",
        "# root='/mnt/batch/tasks/shared/LS_root/mounts/clusters/[instance]/code/Users/[user]'\n",
        "\n",
        "# 若实例所在路径被删，会导致无法cd，此时请去掉下方注释救场。\n",
        "# import os\n",
        "# path = root # /content is pretty much the root. you can choose other path in your colab workspace\n",
        "# os.chdir(path)"
      ],
      "outputs": [],
      "execution_count": null,
      "metadata": {
        "trusted": true,
        "gather": {
          "logged": 1665584398982
        }
      }
    },
    {
      "cell_type": "markdown",
      "source": [
        "Clone webui repository"
      ],
      "metadata": {}
    },
    {
      "cell_type": "code",
      "source": [
        "!git clone https://github.com/AUTOMATIC1111/stable-diffusion-webui {root}/stable-diffusion-webui\r\n",
        "\r\n",
        "# Update\r\n",
        "# %cd {root}/stable-diffusion-webui\r\n",
        "# !git pull"
      ],
      "outputs": [],
      "execution_count": null,
      "metadata": {
        "trusted": true
      }
    },
    {
      "cell_type": "markdown",
      "source": [
        "Download the model from NovelAILeaks."
      ],
      "metadata": {}
    },
    {
      "cell_type": "code",
      "source": [
        "!mkdir -p {root}/stable-diffusion-webui/models/Stable-diffusion {root}/stable-diffusion-webui/models/hypernetworks\n",
        "%cd {root}/stable-diffusion-webui/models/Stable-diffusion\n",
        "\n",
        "# Models\n",
        "\n",
        "# 4G animefull-final-pruned\n",
        "!curl -Lo animefull-final-pruned.ckpt https://cloudflare-ipfs.com/ipfs/bafybeicpamreyp2bsocyk3hpxr7ixb2g2rnrequub3j2ahrkdxbvfbvjc4/model.ckpt\n",
        "!curl -Lo animefull-final-pruned.yaml https://cloudflare-ipfs.com/ipfs/bafybeiav3j7npiuewbel3mi32l3sidgkw54kuleosbhxmdvddbnvtfi7yu/config.yaml\n",
        "\n",
        "# Others\n",
        "\n",
        "# Install VAE Weights (optional)\n",
        "!curl -Lo animevae.pt https://cloudflare-ipfs.com/ipfs/bafybeiccldswdd3wvg57jhclcq53lvsc6gizasiblwayvhlv6eq4wow7wu/animevae.pt \n",
        "\n",
        "# Install hypernetwork （optional)\n",
        "!curl -L https://cloudflare-ipfs.com/ipfs/bafybeiduanx2b3mcvxlwr66igcwnpfmk3nc3qgxlpwh6oq6m6pxii3f77e/_modules.tar | tar x -C {root}/stable-diffusion-webui/models/hypernetworks\n",
        "\n",
        "# Install custom embeddings (modified, optional)\n",
        "# !curl -L https://cloudflare-ipfs.com/ipfs/bafybeie3hdjchxs5tz4n75bos53nhcklslguxchdurc2ynrzcfv2kwyklu/embeddings.tar | tar x -C {root}/stable-diffusion-webui/embeddings"
      ],
      "outputs": [],
      "execution_count": null,
      "metadata": {
        "trusted": true,
        "gather": {
          "logged": 1665550891514
        }
      }
    },
    {
      "cell_type": "markdown",
      "source": [
        "Launch web ui. You will get a link to nnn.gradio.app, follow it.\n",
        "\n",
        "Commandline arguments are:\n",
        "  - `--share` - create online gradio.app link\n",
        "  - `--gradio-debug` - print outputs to console\n",
        "  - `--gradio-auth me:qwerty` - add authentication to gradio: username me, password qwerty"
      ],
      "metadata": {}
    },
    {
      "cell_type": "code",
      "source": [
        "# 更新\r\n",
        "!conda install pytorch torchvision torchaudio -c pytorch -y"
      ],
      "outputs": [],
      "execution_count": null,
      "metadata": {
        "jupyter": {
          "source_hidden": false,
          "outputs_hidden": false
        },
        "nteract": {
          "transient": {
            "deleting": false
          }
        }
      }
    },
    {
      "cell_type": "code",
      "source": [
        "%cd {root}/stable-diffusion-webui\n",
        "# 解决 git 报错 \"detected dubious ownership in repository at\"\n",
        "!git config --global --add safe.directory '*'\n",
        "!pip3 install -U torch torchvision torchaudio --extra-index-url https://download.pytorch.org/whl/cu113\n",
        "\n",
        "# Use novelai stable-diffusion-private (maybe slow, not work with DDIM, optional)\n",
        "# !mkdir -p repositories/stable-diffusion\n",
        "# !curl -L https://cloudflare-ipfs.com/ipfs/bafybeiauciguui6skzcwg23mjprjbuqhfzudms2gfi4rna55bygc3s6yxa/stable-diffusion-private.tar | tar x -C repositories/stable-diffusion\n",
        "# !git config --global --add safe.directory /content/stable-diffusion-webui/repositories/stable-diffusion\n",
        "# !pip3 install icecream xformers\n",
        "# !sed -i 's/transformer\\.text_model/transformer/g' modules/sd_hijack.py\n",
        "# !COMMANDLINE_ARGS=\"--share --gradio-debug --config config.yaml --xformers\" \\\n",
        "#  REQS_FILE=\"requirements.txt\" STABLE_DIFFUSION_COMMIT_HASH=\"5d95f1742ab1831d99df91c1a469b2b56a61eebf\" python launch.py\n",
        "\n",
        "# ...Or use normal stable-diffusion\n",
        "!COMMANDLINE_ARGS=\"--ngrok [Authtoken] --ngrok-region jp --gradio-debug --vae-path {root}/stable-diffusion-webui/models/Stable-diffusion/animevae.pt --ckpt {root}/fastsd/models/animefull-final-pruned.ckpt\" REQS_FILE=\"requirements.txt\" python launch.py\n",
        "# !COMMANDLINE_ARGS=\"--share --gradio-auth user:pw --gradio-debug --vae-path {root}/stable-diffusion-webui/models/Stable-diffusion/animevae.pt --ckpt {root}/fastsd/models/animefull-final-pruned.ckpt\" REQS_FILE=\"requirements.txt\" python launch.py\n",
        "# 纯 CPU\n",
        "# !COMMANDLINE_ARGS=\"--share --gradio-auth user:pw --use-cpu --gradio-debug --vae-path {root}/stable-diffusion-webui/models/Stable-diffusion/animevae.pt --ckpt {root}/fastsd/models/animefull-final-pruned.ckpt\" REQS_FILE=\"requirements.txt\" python launch.py"
      ],
      "outputs": [],
      "execution_count": null,
      "metadata": {
        "execution": {
          "iopub.status.busy": "2022-10-12T01:52:52.413164Z",
          "iopub.execute_input": "2022-10-12T01:52:52.413600Z"
        },
        "trusted": true,
        "gather": {
          "logged": 1665587027058
        }
      }
    },
    {
      "cell_type": "markdown",
      "source": [
        "commands for ***after*** you have gotten done with a session\n",
        "============================================================================"
      ],
      "metadata": {}
    },
    {
      "cell_type": "code",
      "source": [
        "!zip -r /kaggle/working/stable-diffusion-webui /kaggle/working/stable-diffusion-webui/outputs"
      ],
      "outputs": [],
      "execution_count": null,
      "metadata": {
        "trusted": true
      }
    }
  ],
  "metadata": {
    "kernelspec": {
      "name": "python3",
      "language": "python",
      "display_name": "Python 3 (ipykernel)"
    },
    "language_info": {
      "name": "python",
      "version": "3.8.5",
      "mimetype": "text/x-python",
      "codemirror_mode": {
        "name": "ipython",
        "version": 3
      },
      "pygments_lexer": "ipython3",
      "nbconvert_exporter": "python",
      "file_extension": ".py"
    },
    "kernel_info": {
      "name": "python3"
    },
    "nteract": {
      "version": "nteract-front-end@1.0.0"
    }
  },
  "nbformat": 4,
  "nbformat_minor": 4
}